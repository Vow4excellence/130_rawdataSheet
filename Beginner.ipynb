{
  "nbformat": 4,
  "nbformat_minor": 0,
  "metadata": {
    "colab": {
      "name": "Beginner",
      "provenance": [],
      "include_colab_link": true
    },
    "kernelspec": {
      "name": "python3",
      "display_name": "Python 3"
    }
  },
  "cells": [
    {
      "cell_type": "markdown",
      "metadata": {
        "id": "view-in-github",
        "colab_type": "text"
      },
      "source": [
        "<a href=\"https://colab.research.google.com/github/Vow4excellence/130_rawdataSheet/blob/main/Beginner.ipynb\" target=\"_parent\"><img src=\"https://colab.research.google.com/assets/colab-badge.svg\" alt=\"Open In Colab\"/></a>"
      ]
    },
    {
      "cell_type": "markdown",
      "metadata": {
        "id": "UUifNPRAFsqF"
      },
      "source": [
        "First class for Python "
      ]
    },
    {
      "cell_type": "code",
      "metadata": {
        "id": "wfCDeff1FsCV"
      },
      "source": [
        ""
      ],
      "execution_count": null,
      "outputs": []
    },
    {
      "cell_type": "code",
      "metadata": {
        "colab": {
          "base_uri": "https://localhost:8080/"
        },
        "id": "6KdNmQzp_Iqs",
        "outputId": "6d52473b-12e5-4b5a-9113-dcd1262e5656"
      },
      "source": [
        "name = \"Yash\"\n",
        "\n",
        "print(name)\n",
        "print(\"name\")\n",
        "print(\"name\" + name)"
      ],
      "execution_count": 8,
      "outputs": [
        {
          "output_type": "stream",
          "text": [
            "Yash\n",
            "name\n",
            "nameYash\n"
          ],
          "name": "stdout"
        }
      ]
    },
    {
      "cell_type": "code",
      "metadata": {
        "id": "BvxzlcXDF4Rm",
        "outputId": "8142cbc2-7b49-4c3a-9f85-cdc42250055b",
        "colab": {
          "base_uri": "https://localhost:8080/"
        }
      },
      "source": [
        "print(\"the student name is \", name)\n",
        "codingclass = 129"
      ],
      "execution_count": 6,
      "outputs": [
        {
          "output_type": "stream",
          "text": [
            "the sytudent name is  Yash\n"
          ],
          "name": "stdout"
        }
      ]
    },
    {
      "cell_type": "code",
      "metadata": {
        "id": "ktHHrltXGQfY",
        "outputId": "c082d00f-bb8b-461d-d673-8f4c6d93007d",
        "colab": {
          "base_uri": "https://localhost:8080/"
        }
      },
      "source": [
        "num1 = input(print(\"enter any number\"))"
      ],
      "execution_count": 9,
      "outputs": [
        {
          "output_type": "stream",
          "text": [
            "enter any number\n",
            "129\n"
          ],
          "name": "stdout"
        }
      ]
    },
    {
      "cell_type": "code",
      "metadata": {
        "id": "oocppC_XGfuK",
        "outputId": "06d5b541-0c1e-4e0b-c2e8-f91e8e9a9012",
        "colab": {
          "base_uri": "https://localhost:8080/"
        }
      },
      "source": [
        "print(num1)"
      ],
      "execution_count": 10,
      "outputs": [
        {
          "output_type": "stream",
          "text": [
            "129\n"
          ],
          "name": "stdout"
        }
      ]
    },
    {
      "cell_type": "code",
      "metadata": {
        "id": "tB_wBCzZGqPP",
        "outputId": "5a737a85-1535-4313-ec86-7846a19a0c89",
        "colab": {
          "base_uri": "https://localhost:8080/"
        }
      },
      "source": [
        "age = int(input(print(\"Enter the age of applicant \")))\n",
        "\n",
        "if age >= 18 :\n",
        "  print(\"Candidate is eligible to apply for Drivers License\")\n",
        "else:\n",
        "  print(\"Candidate is NOT eligible to apply for Drivers License\")"
      ],
      "execution_count": 13,
      "outputs": [
        {
          "output_type": "stream",
          "text": [
            "Enter the age of applicant \n",
            "12\n",
            "Candidate is NOT eligible to apply for Drivers License\n"
          ],
          "name": "stdout"
        }
      ]
    },
    {
      "cell_type": "code",
      "metadata": {
        "id": "ux0cakS3IMOt",
        "outputId": "403aad19-0aa3-49a6-d80a-a6f754542a89",
        "colab": {
          "base_uri": "https://localhost:8080/"
        }
      },
      "source": [
        "#WHILE LOOP = first we declare initial value of a variable\n",
        "# second: we check condition in the while statement\n",
        "# increment or decrement variable or counter valu\n",
        "\n",
        "\n",
        "counter = 0\n",
        "\n",
        "while counter <5:\n",
        "  age = int(input(print(\"Enter the age of applicant \")))\n",
        "\n",
        "  if age >= 18 :\n",
        "    print(\"Candidate is eligible to apply for Drivers License\")\n",
        "  else:\n",
        "    print(\"Candidate is NOT eligible to apply for Drivers License\")\n",
        "\n",
        "  counter = counter + 1"
      ],
      "execution_count": 15,
      "outputs": [
        {
          "output_type": "stream",
          "text": [
            "Enter the age of applicant \n",
            "11\n",
            "Candidate is NOT eligible to apply for Drivers License\n",
            "Enter the age of applicant \n",
            "17\n",
            "Candidate is NOT eligible to apply for Drivers License\n",
            "Enter the age of applicant \n",
            "21\n",
            "Candidate is eligible to apply for Drivers License\n",
            "Enter the age of applicant \n",
            "27\n",
            "Candidate is eligible to apply for Drivers License\n",
            "Enter the age of applicant \n",
            "78\n",
            "Candidate is eligible to apply for Drivers License\n"
          ],
          "name": "stdout"
        }
      ]
    },
    {
      "cell_type": "code",
      "metadata": {
        "id": "9g4FohUfJ5be",
        "outputId": "b7f9c49f-229e-41e5-dd3b-5d35c007ec4e",
        "colab": {
          "base_uri": "https://localhost:8080/"
        }
      },
      "source": [
        "for x in range(3):\n",
        "  age = int(input(print(\"Enter the age of applicant \")))\n",
        "\n",
        "  if age >= 18 :\n",
        "    print(\"Candidate is eligible to apply for Drivers License\")\n",
        "  else:\n",
        "    print(\"Candidate is NOT eligible to apply for Drivers License\")\n",
        "\n",
        "  "
      ],
      "execution_count": 17,
      "outputs": [
        {
          "output_type": "stream",
          "text": [
            "Enter the age of applicant \n",
            "12\n",
            "Candidate is NOT eligible to apply for Drivers License\n",
            "Enter the age of applicant \n",
            "13\n",
            "Candidate is NOT eligible to apply for Drivers License\n",
            "Enter the age of applicant \n",
            "14\n",
            "Candidate is NOT eligible to apply for Drivers License\n",
            "Enter the age of applicant \n",
            "5\n",
            "Candidate is NOT eligible to apply for Drivers License\n",
            "Enter the age of applicant \n",
            "16\n",
            "Candidate is NOT eligible to apply for Drivers License\n"
          ],
          "name": "stdout"
        }
      ]
    },
    {
      "cell_type": "code",
      "metadata": {
        "colab": {
          "base_uri": "https://localhost:8080/"
        },
        "id": "AV9x_9JuCnIl",
        "outputId": "2fca087e-f591-4c68-f6cc-4b44b1790d03"
      },
      "source": [
        "introString=input(\"Enter string:\")\n",
        "characterCount=0\n",
        "wordCount=1\n",
        "for i in introString:\n",
        "      characterCount=characterCount+1\n",
        "      if(i==' '):\n",
        "            wordCount=wordCount+1\n",
        "print(\"Number of word in the string:\")\n",
        "print(wordCount)\n",
        "print(\"Number of character in the string:\")\n",
        "print(characterCount)"
      ],
      "execution_count": 2,
      "outputs": [
        {
          "output_type": "stream",
          "text": [
            "Enter string:welcome to python\n",
            "Number of word in the string:\n",
            "3\n",
            "Number of character in the string:\n",
            "17\n"
          ],
          "name": "stdout"
        }
      ]
    }
  ]
}